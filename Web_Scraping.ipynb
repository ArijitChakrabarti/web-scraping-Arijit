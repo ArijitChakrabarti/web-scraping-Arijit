{
 "cells": [
  {
   "cell_type": "markdown",
   "metadata": {
    "colab": {},
    "colab_type": "code",
    "id": "nqDZFk2Ifw_z"
   },
   "source": [
    "![enter image description here](https://github.com/ArijitChakrabarti/web-scraping-Arijit/blob/main/web-scraping-620x350.jpg?raw=true)\n",
    "# WEB SCRAPING\n",
    "\n",
    "As the name suggests - Web Scraping is the process of collecting structured data present on the web in an automated fashion. I developed the code to use as part of my first EDA project - where the data present on the website, in this case www.countrycodes.org - was needed.  These few lines of code has helped me immensely wherever there is lots of online data structured in the form of a table.  As long as one can identify the start point of the table by inspecting the html code - the rest is as easy as apple pie."
   ]
  },
  {
   "cell_type": "code",
   "execution_count": 1,
   "metadata": {
    "colab": {},
    "colab_type": "code",
    "id": "nqDZFk2Ifw_z"
   },
   "outputs": [],
   "source": [
    "import requests\n",
    "import lxml.html as lh\n",
    "import pandas as pd"
   ]
  },
  {
   "cell_type": "code",
   "execution_count": 2,
   "metadata": {
    "colab": {},
    "colab_type": "code",
    "id": "O3G_6-clf3bV"
   },
   "outputs": [],
   "source": [
    "page = requests.get('https://countrycode.org/') #url of the html page to copy from\n",
    "doc = lh.fromstring(page.content)  #store the data in a document file\n",
    "tr_elements=doc.xpath('///tr')   #inspect from the html page from where the data starts add additional  - //"
   ]
  },
  {
   "cell_type": "code",
   "execution_count": 3,
   "metadata": {
    "colab": {
     "base_uri": "https://localhost:8080/",
     "height": 34
    },
    "colab_type": "code",
    "id": "NO7WZeXal6lR",
    "outputId": "be4aa9ee-f339-404b-c247-7dec86547e1f"
   },
   "outputs": [
    {
     "data": {
      "text/plain": [
       "[6, 6, 6, 6, 6, 6, 6, 6, 6, 6, 6, 6]"
      ]
     },
     "execution_count": 3,
     "metadata": {},
     "output_type": "execute_result"
    }
   ],
   "source": [
    "[len(T)for T in tr_elements[:12]]"
   ]
  },
  {
   "cell_type": "code",
   "execution_count": 4,
   "metadata": {
    "colab": {
     "base_uri": "https://localhost:8080/",
     "height": 323
    },
    "colab_type": "code",
    "id": "zLOC98aymwms",
    "outputId": "3a1dc05d-2da3-4d56-e341-5d19570e635d"
   },
   "outputs": [
    {
     "name": "stdout",
     "output_type": "stream",
     "text": [
      "1:\"\n",
      "                            COUNTRY\n",
      "                        \"\n",
      "2:\"\n",
      "                            COUNTRY CODE\n",
      "                        \"\n",
      "3:\"\n",
      "                            ISO CODES\n",
      "                        \"\n",
      "4:\"\n",
      "                            POPULATION\n",
      "                        \"\n",
      "5:\"\n",
      "                            AREA KM2\n",
      "                        \"\n",
      "6:\"\n",
      "                            GDP $USD\n",
      "                        \"\n"
     ]
    }
   ],
   "source": [
    "tr_elements = doc.xpath('///tr')\n",
    "#Create empty list\n",
    "col=[]\n",
    "i=0\n",
    "#For each row, store each first element (header) and an empty list\n",
    "for t in tr_elements[0]:\n",
    "    i+=1\n",
    "    name=t.text_content()\n",
    "    print ('%d:\"%s\"' %(i,name))\n",
    "    col.append((name,[]))"
   ]
  },
  {
   "cell_type": "code",
   "execution_count": 5,
   "metadata": {
    "colab": {},
    "colab_type": "code",
    "id": "mmt9oMQ2nBOh"
   },
   "outputs": [],
   "source": [
    "for j in range(1,len(tr_elements)):\n",
    "    #T is our j'th row\n",
    "    T=tr_elements[j]\n",
    "    \n",
    "    #If row is not of size 10, the //tr data is not from our table \n",
    "    if len(T)!=6:\n",
    "        break\n",
    "    \n",
    "    #i is the index of our column\n",
    "    i=0\n",
    "    \n",
    "    #Iterate through each element of the row\n",
    "    for t in T.iterchildren():\n",
    "        data=t.text_content() \n",
    "        #Check if row is empty\n",
    "        if i>0:\n",
    "        #Convert any numerical value to integers\n",
    "            try:\n",
    "                data=int(data)\n",
    "            except:\n",
    "                pass\n",
    "        #Append the data to the empty list of the i'th column\n",
    "        col[i][1].append(data)\n",
    "        #Increment i for the next column\n",
    "        i+=1"
   ]
  },
  {
   "cell_type": "code",
   "execution_count": 6,
   "metadata": {
    "colab": {
     "base_uri": "https://localhost:8080/",
     "height": 34
    },
    "colab_type": "code",
    "id": "MQjvcKBPoWRZ",
    "outputId": "65b27f53-2866-433d-a136-78cd0ac3cf0e"
   },
   "outputs": [
    {
     "data": {
      "text/plain": [
       "[240, 240, 240, 240, 240, 240]"
      ]
     },
     "execution_count": 6,
     "metadata": {},
     "output_type": "execute_result"
    }
   ],
   "source": [
    "[len(C) for (title,C) in col]"
   ]
  },
  {
   "cell_type": "code",
   "execution_count": 7,
   "metadata": {
    "colab": {},
    "colab_type": "code",
    "id": "7fX5cUzsoZLu"
   },
   "outputs": [],
   "source": [
    "Dict={title:column for (title,column) in col}\n",
    "df=pd.DataFrame(Dict)"
   ]
  },
  {
   "cell_type": "code",
   "execution_count": 8,
   "metadata": {
    "colab": {
     "base_uri": "https://localhost:8080/",
     "height": 204
    },
    "colab_type": "code",
    "id": "Zbozfw_loch5",
    "outputId": "159240fa-88ac-4481-bbf5-667d7ff8738c"
   },
   "outputs": [
    {
     "data": {
      "text/html": [
       "<div>\n",
       "<style scoped>\n",
       "    .dataframe tbody tr th:only-of-type {\n",
       "        vertical-align: middle;\n",
       "    }\n",
       "\n",
       "    .dataframe tbody tr th {\n",
       "        vertical-align: top;\n",
       "    }\n",
       "\n",
       "    .dataframe thead th {\n",
       "        text-align: right;\n",
       "    }\n",
       "</style>\n",
       "<table border=\"1\" class=\"dataframe\">\n",
       "  <thead>\n",
       "    <tr style=\"text-align: right;\">\n",
       "      <th></th>\n",
       "      <th>\\n                            COUNTRY\\n</th>\n",
       "      <th>\\n                            COUNTRY CODE\\n</th>\n",
       "      <th>\\n                            ISO CODES\\n</th>\n",
       "      <th>\\n                            POPULATION\\n</th>\n",
       "      <th>\\n                            AREA KM2\\n</th>\n",
       "      <th>\\n                            GDP $USD\\n</th>\n",
       "    </tr>\n",
       "  </thead>\n",
       "  <tbody>\n",
       "    <tr>\n",
       "      <th>0</th>\n",
       "      <td>Afghanistan</td>\n",
       "      <td>93</td>\n",
       "      <td>AF / AFG</td>\n",
       "      <td>29,121,286</td>\n",
       "      <td>647,500</td>\n",
       "      <td>20.65 Billion</td>\n",
       "    </tr>\n",
       "    <tr>\n",
       "      <th>1</th>\n",
       "      <td>Albania</td>\n",
       "      <td>355</td>\n",
       "      <td>AL / ALB</td>\n",
       "      <td>2,986,952</td>\n",
       "      <td>28,748</td>\n",
       "      <td>12.8 Billion</td>\n",
       "    </tr>\n",
       "    <tr>\n",
       "      <th>2</th>\n",
       "      <td>Algeria</td>\n",
       "      <td>213</td>\n",
       "      <td>DZ / DZA</td>\n",
       "      <td>34,586,184</td>\n",
       "      <td>2,381,740</td>\n",
       "      <td>215.7 Billion</td>\n",
       "    </tr>\n",
       "    <tr>\n",
       "      <th>3</th>\n",
       "      <td>American Samoa</td>\n",
       "      <td>1-684</td>\n",
       "      <td>AS / ASM</td>\n",
       "      <td>57,881</td>\n",
       "      <td>199</td>\n",
       "      <td>462.2 Million</td>\n",
       "    </tr>\n",
       "    <tr>\n",
       "      <th>4</th>\n",
       "      <td>Andorra</td>\n",
       "      <td>376</td>\n",
       "      <td>AD / AND</td>\n",
       "      <td>84,000</td>\n",
       "      <td>468</td>\n",
       "      <td>4.8 Billion</td>\n",
       "    </tr>\n",
       "  </tbody>\n",
       "</table>\n",
       "</div>"
      ],
      "text/plain": [
       "  \\n                            COUNTRY\\n                          \\\n",
       "0                                        Afghanistan                \n",
       "1                                            Albania                \n",
       "2                                            Algeria                \n",
       "3                                     American Samoa                \n",
       "4                                            Andorra                \n",
       "\n",
       "  \\n                            COUNTRY CODE\\n                          \\\n",
       "0                                                 93                     \n",
       "1                                                355                     \n",
       "2                                                213                     \n",
       "3                                              1-684                     \n",
       "4                                                376                     \n",
       "\n",
       "  \\n                            ISO CODES\\n                          \\\n",
       "0                                           AF / AFG                  \n",
       "1                                           AL / ALB                  \n",
       "2                                           DZ / DZA                  \n",
       "3                                           AS / ASM                  \n",
       "4                                           AD / AND                  \n",
       "\n",
       "  \\n                            POPULATION\\n                          \\\n",
       "0                                         29,121,286                   \n",
       "1                                          2,986,952                   \n",
       "2                                         34,586,184                   \n",
       "3                                             57,881                   \n",
       "4                                             84,000                   \n",
       "\n",
       "  \\n                            AREA KM2\\n                          \\\n",
       "0                                            647,500                 \n",
       "1                                             28,748                 \n",
       "2                                          2,381,740                 \n",
       "3                                                199                 \n",
       "4                                                468                 \n",
       "\n",
       "  \\n                            GDP $USD\\n                          \n",
       "0                                      20.65 Billion                \n",
       "1                                       12.8 Billion                \n",
       "2                                      215.7 Billion                \n",
       "3                                      462.2 Million                \n",
       "4                                        4.8 Billion                "
      ]
     },
     "execution_count": 8,
     "metadata": {},
     "output_type": "execute_result"
    }
   ],
   "source": [
    "df.head()"
   ]
  }
 ],
 "metadata": {
  "colab": {
   "name": "Web Scraping.ipynb",
   "provenance": []
  },
  "kernelspec": {
   "display_name": "Python 3",
   "language": "python",
   "name": "python3"
  },
  "language_info": {
   "codemirror_mode": {
    "name": "ipython",
    "version": 3
   },
   "file_extension": ".py",
   "mimetype": "text/x-python",
   "name": "python",
   "nbconvert_exporter": "python",
   "pygments_lexer": "ipython3",
   "version": "3.7.9"
  }
 },
 "nbformat": 4,
 "nbformat_minor": 4
}
